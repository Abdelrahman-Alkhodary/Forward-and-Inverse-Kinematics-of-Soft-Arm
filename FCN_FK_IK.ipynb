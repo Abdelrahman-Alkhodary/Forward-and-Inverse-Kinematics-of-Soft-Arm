{
 "cells": [
  {
   "cell_type": "code",
   "execution_count": 1,
   "id": "historical-analyst",
   "metadata": {},
   "outputs": [],
   "source": [
    "import os\n",
    "import numpy as np \n",
    "import pandas as pd\n",
    "import torch\n",
    "import torch.nn as nn\n",
    "from torch.optim import SGD, Adam\n",
    "from torch.utils.data import Dataset, DataLoader, random_split\n",
    "from tqdm import tqdm"
   ]
  },
  {
   "cell_type": "code",
   "execution_count": 2,
   "id": "valid-eating",
   "metadata": {},
   "outputs": [],
   "source": [
    "# reading the two csv files that has the min and max coordinates to use it for normalization if needed\n",
    "min_matrix = pd.read_csv('./data/min_matrix.csv', names=['x', 'y', 'z'])\n",
    "max_matrix = pd.read_csv('./data/max_matrix.csv', names=['x', 'y', 'z'])\n",
    "# reading the csv file that contains tensions of the four cables with \n",
    "# row index has the same number of file that corresponds to these tensions \n",
    "cable_matrix = pd.read_csv('./data/cable_matrix.csv', names=['t1', 't2', 't3', 't4'])"
   ]
  },
  {
   "cell_type": "code",
   "execution_count": 3,
   "id": "passing-marijuana",
   "metadata": {},
   "outputs": [],
   "source": [
    "# defining the class that create the dataset by reading the files of the shapes \n",
    "# and tensions that creates these shapes and output a python dictionary \n",
    "# that has the tip position and the tensions \n",
    "class TensionToTipPos(Dataset):\n",
    "    def __init__(self, shape_files, root_dir, cable_matrix):\n",
    "        super(TensionToTipPos, self).__init__()\n",
    "        self.shape_files = shape_files\n",
    "        self.root_dir = root_dir\n",
    "                \n",
    "        self.cable_matrix = cable_matrix\n",
    "        # device to put the tensors on to speed up \n",
    "        self.device = torch.device('cuda' if torch.cuda.is_available() else 'cpu')\n",
    "        \n",
    "        \n",
    "    def __len__(self):\n",
    "        return len(self.cable_matrix)\n",
    "    \n",
    "    def __getitem__(self, idx):\n",
    "        if torch.is_tensor(idx):\n",
    "            idx = idx.tolist()\n",
    "        \n",
    "        shape_file = self.shape_files[idx]\n",
    "        tip_position = self.shape_matrix_to_tip_position(shape_file)\n",
    "        \n",
    "        t1, t2, t3, t4 = self.cable_matrix.iloc[idx, :]\n",
    "        tensions = torch.tensor([t1, t2, t3, t4], dtype=torch.float32)\n",
    "        sample = {'tip_position': tip_position, 'tensions': tensions}\n",
    "        \n",
    "        return sample\n",
    "    \n",
    "    \n",
    "    def shape_matrix_to_tip_position(self, shape_file):\n",
    "        # read shape matrix then read the coordinate of the entry the tip position and convert it to cm\n",
    "        matrix_dir = os.path.join(self.root_dir, shape_file)\n",
    "        shape_matrix = pd.read_csv(matrix_dir, header=None).T\n",
    "        tip_position = shape_matrix.iloc[-1,:]*100\n",
    "        return torch.tensor(tip_position, dtype=torch.float32)"
   ]
  },
  {
   "cell_type": "code",
   "execution_count": 8,
   "id": "approximate-appeal",
   "metadata": {},
   "outputs": [],
   "source": [
    "shape_files_dir = './data/shape/'\n",
    "shape_files = os.listdir(shape_files_dir)\n",
    "shape_files.sort()"
   ]
  },
  {
   "cell_type": "code",
   "execution_count": 9,
   "id": "metropolitan-sterling",
   "metadata": {},
   "outputs": [],
   "source": [
    "# create the dataset by the class defined above\n",
    "TensionToTipPos_ds = TensionToTipPos(shape_files=shape_files, \n",
    "                                   root_dir=shape_files_dir, \n",
    "                                   cable_matrix=cable_matrix)\n",
    "TensionToTipPos_dl = DataLoader(TensionToTipPos_ds, batch_size=1,shuffle=True)"
   ]
  },
  {
   "cell_type": "code",
   "execution_count": 10,
   "id": "engaged-session",
   "metadata": {},
   "outputs": [
    {
     "name": "stdout",
     "output_type": "stream",
     "text": [
      "{'tip_position': tensor([[ 5.0883, -1.5191, -3.2569]]), 'tensions': tensor([[9.9118, 7.8857, 7.5932, 3.7592]])}\n"
     ]
    }
   ],
   "source": [
    "# an example of the dataset\n",
    "data_itr = iter(TensionToTipPos_dl)\n",
    "sample = next(data_itr)\n",
    "print(sample)"
   ]
  },
  {
   "cell_type": "code",
   "execution_count": 32,
   "id": "harmful-volunteer",
   "metadata": {},
   "outputs": [],
   "source": [
    "# the dataset created from matlab was originally 250K, we split it into 100K and 150K\n",
    "subDataset_a, subDataset_b = random_split(TensionToTipPos_ds, lengths=[100000, 150000])\n",
    "# again split the the 100K into 80K for training and 20K for testing\n",
    "TensionToTipPos_ds_tr, TensionToTipPos_ds_test = random_split(subDataset_a, lengths=[80000, 20000])\n",
    "TensionToTipPos_dl_tr = DataLoader(TensionToTipPos_ds_tr, batch_size=1024, shuffle=True)\n",
    "TensionToTipPos_dl_test = DataLoader(TensionToTipPos_ds_test, batch_size=1, shuffle=True)"
   ]
  },
  {
   "cell_type": "code",
   "execution_count": 33,
   "id": "adapted-listing",
   "metadata": {},
   "outputs": [],
   "source": [
    "# the class that holds the forward kinematics architecture\n",
    "class FK_Net(nn.Module):\n",
    "    def __init__(self):\n",
    "        super(FK_Net, self).__init__()\n",
    "        self.fc1 = nn.Sequential(nn.Linear(4, 16),\n",
    "                                 nn.ReLU())\n",
    "        self.fc2 = nn.Sequential(nn.Linear(16,16),\n",
    "                                 nn.ReLU())\n",
    "        self.fc3 = nn.Sequential(nn.Linear(16,3))\n",
    "        \n",
    "    def forward(self, x):\n",
    "        x = self.fc1(x)\n",
    "        x = self.fc2(x)\n",
    "        x = self.fc3(x)\n",
    "        return x"
   ]
  },
  {
   "cell_type": "code",
   "execution_count": 34,
   "id": "embedded-cincinnati",
   "metadata": {},
   "outputs": [],
   "source": [
    "# the function that is used to train the model\n",
    "def train_model(train_dl, model):\n",
    "    model.train()\n",
    "    # define the loss function, we will use predefined pytorch MSE Loss function\n",
    "    criterion = nn.MSELoss()\n",
    "    # define the optimizater\n",
    "    optimizer = torch.optim.Adam(model.parameters(), lr=0.01)\n",
    "    # enumerate epochs\n",
    "    for epoch in range(20):\n",
    "        loss_arr = []\n",
    "        # enumerate mini batches\n",
    "        for i, sample_batch in tqdm(enumerate(train_dl)):\n",
    "            # clear the gradients\n",
    "            optimizer.zero_grad()\n",
    "            # compute the model output\n",
    "            yhat = model(sample_batch['tensions'].to(device))\n",
    "            # calculate loss\n",
    "            loss = criterion(yhat, sample_batch['tip_position'].to(device))\n",
    "            loss_arr.append(loss.item())\n",
    "            # credit assignment\n",
    "            loss.backward()\n",
    "            # update model weights\n",
    "            optimizer.step()\n",
    "        if epoch % 10 == 0 or epoch == 0:\n",
    "            print('Epoch: {}, mean loss: {}'.format(epoch, np.mean(loss_arr)))"
   ]
  },
  {
   "cell_type": "code",
   "execution_count": 35,
   "id": "designed-episode",
   "metadata": {},
   "outputs": [
    {
     "name": "stderr",
     "output_type": "stream",
     "text": [
      "79it [34:20, 26.08s/it]\n",
      "0it [00:00, ?it/s]"
     ]
    },
    {
     "name": "stdout",
     "output_type": "stream",
     "text": [
      "Epoch: 0, mean loss: 9.406562436985064\n"
     ]
    },
    {
     "name": "stderr",
     "output_type": "stream",
     "text": [
      "79it [29:36, 22.48s/it]\n",
      "79it [29:48, 22.63s/it]\n",
      "79it [33:49, 25.69s/it]\n",
      "79it [30:51, 23.44s/it]\n",
      "79it [30:28, 23.15s/it]\n",
      "79it [45:55, 34.88s/it] \n",
      "79it [30:00, 22.79s/it]\n",
      "79it [29:38, 22.51s/it]\n",
      "79it [30:05, 22.85s/it]\n",
      "79it [29:15, 22.22s/it]\n",
      "0it [00:00, ?it/s]"
     ]
    },
    {
     "name": "stdout",
     "output_type": "stream",
     "text": [
      "Epoch: 10, mean loss: 1.384048087687432\n"
     ]
    },
    {
     "name": "stderr",
     "output_type": "stream",
     "text": [
      "79it [29:20, 22.29s/it]\n",
      "79it [29:13, 22.20s/it]\n",
      "79it [29:11, 22.18s/it]\n",
      "79it [29:16, 22.24s/it]\n",
      "79it [29:18, 22.26s/it]\n",
      "79it [29:18, 22.26s/it]\n",
      "79it [29:27, 22.37s/it]\n",
      "79it [31:12, 23.70s/it]\n",
      "79it [30:36, 23.25s/it]\n"
     ]
    }
   ],
   "source": [
    "# initiate the model and put it on the gpu\n",
    "model = FK_Net().cuda()\n",
    "device = torch.device('cuda' if torch.cuda.is_available() else 'cpu') \n",
    "# train the model\n",
    "train_model(TensionToTipPos_dl_tr, model)"
   ]
  },
  {
   "cell_type": "code",
   "execution_count": 36,
   "id": "pointed-annual",
   "metadata": {},
   "outputs": [],
   "source": [
    "# Specify a path to save the model's weights\n",
    "PATH = \"FCN_FK_DrBerkeCode.pt\"\n",
    "\n",
    "# Save the model into the path\n",
    "torch.save(model, PATH)"
   ]
  },
  {
   "cell_type": "code",
   "execution_count": 12,
   "id": "outdoor-joshua",
   "metadata": {},
   "outputs": [],
   "source": [
    "# the class that holds the inverse kinematics architecture\n",
    "class IK_Net(nn.Module):\n",
    "    def __init__(self):\n",
    "        super(IK_Net, self).__init__()\n",
    "        self.fc1 = nn.Sequential(nn.Linear(3, 16),\n",
    "                                 nn.ReLU())\n",
    "        self.fc2 = nn.Sequential(nn.Linear(16,16),\n",
    "                                 nn.ReLU())\n",
    "        self.fc3 = nn.Sequential(nn.Linear(16,4))\n",
    "        \n",
    "    def forward(self, x):\n",
    "        x = self.fc1(x)\n",
    "        x = self.fc2(x)\n",
    "        x = self.fc3(x)\n",
    "        return x"
   ]
  },
  {
   "cell_type": "code",
   "execution_count": 13,
   "id": "desirable-windsor",
   "metadata": {},
   "outputs": [],
   "source": [
    "# train the model\n",
    "def train_model_IK(train_dl, model):\n",
    "    model.train()\n",
    "    # define the optimization\n",
    "    criterion = nn.MSELoss()\n",
    "    optimizer = torch.optim.Adam(model.parameters(), lr=0.01)\n",
    "    # enumerate epochs\n",
    "    for epoch in range(20):\n",
    "        loss_arr = []\n",
    "        # enumerate mini batches\n",
    "        for i, sample_batch in tqdm(enumerate(train_dl)):\n",
    "            # clear the gradients\n",
    "            optimizer.zero_grad()\n",
    "            # compute the model output by inserting the tip position as the input\n",
    "            yhat = model(sample_batch['tip_position'].to(device))\n",
    "            # calculate loss between the model output and the original tensions of the cable \n",
    "            loss = criterion(yhat, sample_batch['tensions'].to(device))\n",
    "            loss_arr.append(loss.item())\n",
    "            # credit assignment\n",
    "            loss.backward()\n",
    "            # update model weights\n",
    "            optimizer.step()\n",
    "        if epoch % 10 == 0 or epoch == 0:\n",
    "            print('Epoch: {}, mean loss: {}'.format(epoch, np.mean(loss_arr)))"
   ]
  },
  {
   "cell_type": "code",
   "execution_count": 14,
   "id": "forced-insulin",
   "metadata": {},
   "outputs": [
    {
     "name": "stderr",
     "output_type": "stream",
     "text": [
      "79it [39:59, 30.37s/it] \n",
      "0it [00:00, ?it/s]"
     ]
    },
    {
     "name": "stdout",
     "output_type": "stream",
     "text": [
      "Epoch: 0, mean loss: 21.580687969545775\n"
     ]
    },
    {
     "name": "stderr",
     "output_type": "stream",
     "text": [
      "79it [28:58, 22.00s/it]\n",
      "79it [28:56, 21.98s/it]\n",
      "79it [28:57, 22.00s/it]\n",
      "79it [28:56, 21.98s/it]\n",
      "79it [28:56, 21.98s/it]\n",
      "79it [28:58, 22.00s/it]\n",
      "79it [29:00, 22.03s/it]\n",
      "79it [28:55, 21.97s/it]\n",
      "79it [28:59, 22.01s/it]\n",
      "79it [28:57, 21.99s/it]\n",
      "0it [00:00, ?it/s]"
     ]
    },
    {
     "name": "stdout",
     "output_type": "stream",
     "text": [
      "Epoch: 10, mean loss: 4.7789053192621544\n"
     ]
    },
    {
     "name": "stderr",
     "output_type": "stream",
     "text": [
      "79it [28:58, 22.01s/it]\n",
      "79it [28:59, 22.02s/it]\n",
      "79it [28:55, 21.96s/it]\n",
      "79it [28:55, 21.97s/it]\n",
      "79it [28:56, 21.97s/it]\n",
      "79it [29:01, 22.04s/it]\n",
      "79it [29:03, 22.07s/it]\n",
      "79it [29:06, 22.10s/it]\n",
      "79it [29:08, 22.13s/it]\n"
     ]
    }
   ],
   "source": [
    "# initiate the inverse model and put it on the gpu\n",
    "model = IK_Net().cuda()\n",
    "device = torch.device('cuda' if torch.cuda.is_available() else 'cpu') \n",
    "# train the model\n",
    "train_model_IK(TensionToTipPos_dl_tr, model)"
   ]
  },
  {
   "cell_type": "code",
   "execution_count": 15,
   "id": "emerging-optimum",
   "metadata": {},
   "outputs": [],
   "source": [
    "# Specify a path to save the inverse model's weights\n",
    "PATH = \"FCN_IK_DrBerkeCode.pt\"\n",
    "\n",
    "# Save the inverse model into the path \n",
    "torch.save(model_FK, PATH)"
   ]
  },
  {
   "cell_type": "markdown",
   "id": "filled-midwest",
   "metadata": {},
   "source": [
    "# Testing Part"
   ]
  },
  {
   "cell_type": "code",
   "execution_count": 17,
   "id": "operating-singapore",
   "metadata": {},
   "outputs": [],
   "source": [
    "# test the model\n",
    "def test_model_IK(test_dl, model):\n",
    "    model.eval()\n",
    "    abs_error = torch.zeros([len(test_dl),4]).to('cuda')\n",
    "    for i, sample_batch in tqdm(enumerate(test_dl)):\n",
    "        # compute the model output\n",
    "        yhat = model(sample_batch['tip_position'].to('cuda'))\n",
    "        # retrieve numpy array\n",
    "        yhat = yhat.detach()\n",
    "        targets = sample_batch['tensions'].to('cuda')\n",
    "        abs_error[i,:] = torch.absolute(targets - yhat)\n",
    "    print(i+1)\n",
    "    return abs_error"
   ]
  },
  {
   "cell_type": "code",
   "execution_count": 18,
   "id": "mediterranean-greece",
   "metadata": {},
   "outputs": [
    {
     "name": "stderr",
     "output_type": "stream",
     "text": [
      "20000it [09:35, 34.76it/s]"
     ]
    },
    {
     "name": "stdout",
     "output_type": "stream",
     "text": [
      "20000\n"
     ]
    },
    {
     "name": "stderr",
     "output_type": "stream",
     "text": [
      "\n"
     ]
    }
   ],
   "source": [
    "# test the model IK\n",
    "abs_error_accumulated = test_model_IK(TensionToTipPos_dl_test, model)"
   ]
  },
  {
   "cell_type": "code",
   "execution_count": 21,
   "id": "prostate-oxide",
   "metadata": {},
   "outputs": [
    {
     "data": {
      "text/plain": [
       "tensor([1.6662, 1.6887, 1.6410, 1.6588], device='cuda:0')"
      ]
     },
     "execution_count": 21,
     "metadata": {},
     "output_type": "execute_result"
    }
   ],
   "source": [
    "abs_error_accumulated.mean(0)"
   ]
  },
  {
   "cell_type": "code",
   "execution_count": 22,
   "id": "bizarre-conflict",
   "metadata": {},
   "outputs": [
    {
     "data": {
      "text/plain": [
       "tensor([1.2758, 1.2878, 1.2948, 1.2942], device='cuda:0')"
      ]
     },
     "execution_count": 22,
     "metadata": {},
     "output_type": "execute_result"
    }
   ],
   "source": [
    "abs_error_accumulated.std(0)"
   ]
  },
  {
   "cell_type": "code",
   "execution_count": 39,
   "id": "varied-conditioning",
   "metadata": {},
   "outputs": [],
   "source": [
    "# test the model\n",
    "def test_model_FK(test_dl, model):\n",
    "    model.eval()\n",
    "    abs_error = torch.zeros([len(test_dl),3]).to('cuda')\n",
    "    for i, sample_batch in tqdm(enumerate(test_dl)):\n",
    "        # compute the model output\n",
    "        yhat = model(sample_batch['tensions'].to('cuda'))\n",
    "        # retrieve numpy array\n",
    "        yhat = yhat.detach()\n",
    "        targets = sample_batch['tip_position'].to('cuda')\n",
    "        abs_error[i,:] = torch.absolute(targets - yhat)\n",
    "    print(i+1)\n",
    "    return abs_error"
   ]
  },
  {
   "cell_type": "code",
   "execution_count": 40,
   "id": "ultimate-citizen",
   "metadata": {},
   "outputs": [
    {
     "name": "stderr",
     "output_type": "stream",
     "text": [
      "20000it [09:08, 36.49it/s]"
     ]
    },
    {
     "name": "stdout",
     "output_type": "stream",
     "text": [
      "20000\n"
     ]
    },
    {
     "name": "stderr",
     "output_type": "stream",
     "text": [
      "\n"
     ]
    }
   ],
   "source": [
    "# test the model \n",
    "model_FK = FK_Net().cuda()\n",
    "abs_error_cumulated = test_model_FK(TensionToTipPos_dl_test, model_FK)"
   ]
  },
  {
   "cell_type": "code",
   "execution_count": 41,
   "id": "coordinated-speaking",
   "metadata": {},
   "outputs": [
    {
     "data": {
      "text/plain": [
       "tensor([3.0876, 3.4107, 3.2158], device='cuda:0')"
      ]
     },
     "execution_count": 41,
     "metadata": {},
     "output_type": "execute_result"
    }
   ],
   "source": [
    "abs_error_accumulated.mean(0)"
   ]
  },
  {
   "cell_type": "code",
   "execution_count": 42,
   "id": "binding-humidity",
   "metadata": {},
   "outputs": [
    {
     "data": {
      "text/plain": [
       "tensor([2.7049, 2.3013, 2.2238], device='cuda:0')"
      ]
     },
     "execution_count": 42,
     "metadata": {},
     "output_type": "execute_result"
    }
   ],
   "source": [
    "abs_error_accumulated.std(0)"
   ]
  },
  {
   "cell_type": "code",
   "execution_count": 43,
   "id": "local-length",
   "metadata": {},
   "outputs": [],
   "source": [
    "# test the Iverse and forward models \n",
    "# first by inserting the tip position to infer the tensions by inverse model\n",
    "# then the output of the IK model inout to forward model \n",
    "# and compare the output of the FK model with truth value\n",
    "def test_model_FK_IK(test_dl, model_FK, model_IK):\n",
    "    model.eval()\n",
    "    abs_error = torch.zeros([len(test_dl),3]).to('cuda')\n",
    "    for i, sample_batch in tqdm(enumerate(test_dl)):\n",
    "        # compute the inverse model output\n",
    "        IK_output = model_IK(sample_batch['tip_position'].to('cuda'))\n",
    "        # compute the forward model output\n",
    "        FK_output = model_FK(IK_output)\n",
    "        # retrieve numpy array\n",
    "        FK_output = FK_output.detach()\n",
    "        targets = sample_batch['tip_position'].to('cuda')\n",
    "        abs_error[i,:] = torch.absolute(targets - FK_output)\n",
    "    # calculate mse\n",
    "    print(i+1)\n",
    "    return abs_error"
   ]
  },
  {
   "cell_type": "code",
   "execution_count": 45,
   "id": "chubby-radiation",
   "metadata": {},
   "outputs": [
    {
     "name": "stderr",
     "output_type": "stream",
     "text": [
      "20000it [08:05, 41.17it/s]"
     ]
    },
    {
     "name": "stdout",
     "output_type": "stream",
     "text": [
      "20000\n"
     ]
    },
    {
     "name": "stderr",
     "output_type": "stream",
     "text": [
      "\n"
     ]
    }
   ],
   "source": [
    "model_FK = FK_Net().cuda()\n",
    "model_IK = IK_Net().cuda()\n",
    "abs_error_accumulated = test_model_FK_IK(TensionToTipPos_dl_test, model_FK, model_IK)"
   ]
  },
  {
   "cell_type": "code",
   "execution_count": 46,
   "id": "numeric-training",
   "metadata": {},
   "outputs": [
    {
     "data": {
      "text/plain": [
       "tensor([4.1383, 3.3612, 3.3428], device='cuda:0')"
      ]
     },
     "execution_count": 46,
     "metadata": {},
     "output_type": "execute_result"
    }
   ],
   "source": [
    "abs_error_accumulated.mean(0)"
   ]
  },
  {
   "cell_type": "code",
   "execution_count": 47,
   "id": "chubby-building",
   "metadata": {},
   "outputs": [
    {
     "data": {
      "text/plain": [
       "tensor([2.5764, 2.2733, 2.1268], device='cuda:0')"
      ]
     },
     "execution_count": 47,
     "metadata": {},
     "output_type": "execute_result"
    }
   ],
   "source": [
    "abs_error_accumulated.std(0)"
   ]
  },
  {
   "cell_type": "code",
   "execution_count": null,
   "id": "opened-vertex",
   "metadata": {},
   "outputs": [],
   "source": []
  }
 ],
 "metadata": {
  "kernelspec": {
   "display_name": "Python 3 (ipykernel)",
   "language": "python",
   "name": "python3"
  },
  "language_info": {
   "codemirror_mode": {
    "name": "ipython",
    "version": 3
   },
   "file_extension": ".py",
   "mimetype": "text/x-python",
   "name": "python",
   "nbconvert_exporter": "python",
   "pygments_lexer": "ipython3",
   "version": "3.8.5"
  }
 },
 "nbformat": 4,
 "nbformat_minor": 5
}
